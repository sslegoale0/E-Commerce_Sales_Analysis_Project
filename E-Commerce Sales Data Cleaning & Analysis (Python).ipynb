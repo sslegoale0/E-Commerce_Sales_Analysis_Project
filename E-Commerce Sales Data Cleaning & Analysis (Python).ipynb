{
 "cells": [
  {
   "cell_type": "markdown",
   "id": "16f84cd4-c54a-450f-b51b-8d2b870475b5",
   "metadata": {},
   "source": [
    "## E-Commerce Sales Data Cleaning."
   ]
  },
  {
   "cell_type": "markdown",
   "id": "40560496-6244-4719-a227-09d9a8dc635c",
   "metadata": {},
   "source": [
    "#### Importing python libraries."
   ]
  },
  {
   "cell_type": "code",
   "execution_count": null,
   "id": "1b5b6567-45bc-401e-9d32-f3ff8364a4b5",
   "metadata": {},
   "outputs": [],
   "source": [
    "import numpy as np\n",
    "import pandas as pd\n",
    "import matplotlib.pyplot as plt\n",
    "import seaborn as sns"
   ]
  },
  {
   "cell_type": "code",
   "execution_count": null,
   "id": "8ec4a8db-47f8-4bff-92cf-0b1c786aa276",
   "metadata": {},
   "outputs": [],
   "source": [
    "pd.set_option('future.no_silent_downcasting', True)"
   ]
  },
  {
   "cell_type": "markdown",
   "id": "0e0a87dd-6099-41fd-b625-a4ca2d943e75",
   "metadata": {},
   "source": [
    "#### Importing e-commerce sales data into jupyter notebook."
   ]
  },
  {
   "cell_type": "code",
   "execution_count": null,
   "id": "a808562b-0b2a-4b73-bf0a-029bff9ee21d",
   "metadata": {},
   "outputs": [],
   "source": [
    "orders = pd.read_excel(\"E-Commerce Sales Data.xlsx\")"
   ]
  },
  {
   "cell_type": "markdown",
   "id": "51319c4a-3515-409f-813b-715d4b6739e6",
   "metadata": {},
   "source": [
    "#### Reading the orders dataframe"
   ]
  },
  {
   "cell_type": "code",
   "execution_count": null,
   "id": "afd7047d-c9bb-4fcc-a2ac-b6e6848e68ea",
   "metadata": {},
   "outputs": [],
   "source": [
    "orders"
   ]
  },
  {
   "cell_type": "markdown",
   "id": "9a62c17f-d66c-4b58-a862-6f0447183003",
   "metadata": {},
   "source": [
    "#### Getting information (shape & data types) on the columns orders dataframe."
   ]
  },
  {
   "cell_type": "code",
   "execution_count": null,
   "id": "0f465e77-cf93-4f79-a11c-b029717e1f34",
   "metadata": {},
   "outputs": [],
   "source": [
    "orders.info()"
   ]
  },
  {
   "cell_type": "markdown",
   "id": "1ee33184-a5a8-49e2-8e1f-1e99f509d463",
   "metadata": {},
   "source": [
    "#### Renaming orders columns."
   ]
  },
  {
   "cell_type": "code",
   "execution_count": null,
   "id": "7c2e9482-5656-4203-99c1-fb77bd7bc50f",
   "metadata": {},
   "outputs": [],
   "source": [
    "orders = orders.rename(columns = {\"Category Name\":\"Category\", \"Customer City\":\"City\", \"Customer Country\":\"Country\", \"Customer Fname\":\"Customer Name\", \"Customer Segment\":\"Segment\", \"Customer State\":\"State\", \"Customer Zipcode\":\"ZIP Code\", \"Order Region\":\"Region\", \"Order Quantity\":\"Quantity\", \"Profit Per Order\":\"Profit\"})"
   ]
  },
  {
   "cell_type": "markdown",
   "id": "cc7e6581-6173-47de-bac7-69437240ecb2",
   "metadata": {},
   "source": [
    "#### Getting new column names."
   ]
  },
  {
   "cell_type": "code",
   "execution_count": null,
   "id": "c4ad25c4-f9f9-4871-8458-7bdc6b0fd5dc",
   "metadata": {},
   "outputs": [],
   "source": [
    "orders.columns"
   ]
  },
  {
   "cell_type": "markdown",
   "id": "d7f87220-6ccc-4d89-aa02-9d3d4904bc06",
   "metadata": {},
   "source": [
    "### 1. Removal of duplicated rows."
   ]
  },
  {
   "cell_type": "code",
   "execution_count": null,
   "id": "15704e03-44f6-4bb7-b1fc-2149ba2fdc1a",
   "metadata": {},
   "outputs": [],
   "source": [
    "orders.duplicated().sum()"
   ]
  },
  {
   "cell_type": "markdown",
   "id": "1b0d0a69-aebe-444d-9915-3d1d7a032e06",
   "metadata": {},
   "source": [
    "### 2. Data formatting and standardisation."
   ]
  },
  {
   "cell_type": "code",
   "execution_count": null,
   "id": "699f3118-86f0-4cfb-bdd4-9bf01ac1c5ce",
   "metadata": {},
   "outputs": [],
   "source": [
    "orders[\"Additional Order items\"].sort_values().unique()"
   ]
  },
  {
   "cell_type": "code",
   "execution_count": null,
   "id": "567b7704-99fd-4950-8721-baad684a1e58",
   "metadata": {},
   "outputs": [],
   "source": [
    "orders[\"City\"].sort_values().unique()"
   ]
  },
  {
   "cell_type": "code",
   "execution_count": null,
   "id": "f920f2ed-f192-4f86-8013-5fef776aada9",
   "metadata": {},
   "outputs": [],
   "source": [
    "orders[orders[\"City\"] == \"CA\"]"
   ]
  },
  {
   "cell_type": "code",
   "execution_count": null,
   "id": "19fc6ee4-07b7-4a2b-988b-a99ab52c02f9",
   "metadata": {},
   "outputs": [],
   "source": [
    "orders[\"Country\"].sort_values().unique()"
   ]
  },
  {
   "cell_type": "code",
   "execution_count": null,
   "id": "113269a2-5c9d-495d-b2b4-ebcb2119b2d9",
   "metadata": {},
   "outputs": [],
   "source": [
    "orders[\"Customer Id\"].sort_values().unique()"
   ]
  },
  {
   "cell_type": "code",
   "execution_count": null,
   "id": "7246b8aa-5383-4f85-bbcf-66ffe791acb0",
   "metadata": {},
   "outputs": [],
   "source": [
    "orders[\"Market\"].sort_values().unique()"
   ]
  },
  {
   "cell_type": "code",
   "execution_count": null,
   "id": "ee1e7016-ec46-481c-a4cd-b208973fa99f",
   "metadata": {},
   "outputs": [],
   "source": [
    "orders[\"Order Date\"].sort_values().unique()"
   ]
  },
  {
   "cell_type": "code",
   "execution_count": null,
   "id": "dfbb22e9-6edd-4ba9-ba35-4329fa3f84f6",
   "metadata": {},
   "outputs": [],
   "source": [
    "orders[\"Order Date\"] = pd.to_datetime(orders[\"Order Date\"], format=\"%d-%m-%Y\")"
   ]
  },
  {
   "cell_type": "code",
   "execution_count": null,
   "id": "b55a7317-df5d-4abf-877b-d0f7589c5c15",
   "metadata": {},
   "outputs": [],
   "source": [
    "orders[\"Order Id\"].sort_values().unique()"
   ]
  },
  {
   "cell_type": "code",
   "execution_count": null,
   "id": "5ac6ed9a-68d8-4d0f-828d-fc859567e413",
   "metadata": {},
   "outputs": [],
   "source": [
    "orders[\"Region\"].sort_values().unique()"
   ]
  },
  {
   "cell_type": "code",
   "execution_count": null,
   "id": "47865999-ab79-4cd2-924d-259661177133",
   "metadata": {},
   "outputs": [],
   "source": [
    "orders[\"Region\"] = orders[\"Region\"].replace(\"US Center\", \"Centre of USA\")"
   ]
  },
  {
   "cell_type": "code",
   "execution_count": null,
   "id": "e87f364f-fdb9-4f05-b86a-b827d5fdb7bf",
   "metadata": {},
   "outputs": [],
   "source": [
    "orders[[\"Region\",\"Market\"]].sort_values(by=\"Market\").drop_duplicates()"
   ]
  },
  {
   "cell_type": "code",
   "execution_count": null,
   "id": "66f4fb29-9d28-4bda-91be-e82eb01c9814",
   "metadata": {},
   "outputs": [],
   "source": [
    "orders[\"Market\"] = orders[\"Market\"].replace({\"LATAM\": \"Latin America\", \"Pacific Asia\":\"Asia\", \"USCA\":\"North America\"})"
   ]
  },
  {
   "cell_type": "code",
   "execution_count": null,
   "id": "71c783e5-522f-4eec-99f0-3c778ca765a5",
   "metadata": {},
   "outputs": [],
   "source": [
    "orders[\"Order Item Total\"].sort_values().unique()"
   ]
  },
  {
   "cell_type": "code",
   "execution_count": null,
   "id": "8e7abc8f-8c52-4cc8-b28b-987c91124e1f",
   "metadata": {},
   "outputs": [],
   "source": [
    "orders[\"Quantity\"].sort_values().unique()"
   ]
  },
  {
   "cell_type": "code",
   "execution_count": null,
   "id": "dde3d3c0-6e93-4a2e-b0d1-0d525d3ff076",
   "metadata": {},
   "outputs": [],
   "source": [
    "orders[\"Product Price\"].sort_values().unique()"
   ]
  },
  {
   "cell_type": "code",
   "execution_count": null,
   "id": "4fccf87d-21bf-47af-a02d-ee5c52691a4b",
   "metadata": {},
   "outputs": [],
   "source": [
    "orders[\"Profit Margin\"].sort_values().unique()"
   ]
  },
  {
   "cell_type": "code",
   "execution_count": null,
   "id": "32852e38-b64d-4a67-be47-630cc7062652",
   "metadata": {},
   "outputs": [],
   "source": [
    "orders[\"Profit Margin\"] = orders[\"Profit Margin\"].str.split(\"%\").str.get(0).astype(float)/100"
   ]
  },
  {
   "cell_type": "code",
   "execution_count": null,
   "id": "c3493715-9220-455f-b8d6-7ce1ed23ad4c",
   "metadata": {},
   "outputs": [],
   "source": [
    "orders[\"Profit\"].sort_values().unique()"
   ]
  },
  {
   "cell_type": "code",
   "execution_count": null,
   "id": "32d99f6b-d364-4d09-b720-7bacc3475674",
   "metadata": {},
   "outputs": [],
   "source": [
    "orders[\"Sales\"].sort_values().unique()"
   ]
  },
  {
   "cell_type": "markdown",
   "id": "8cb88c79-5c0c-43b3-bf23-b316ceac242c",
   "metadata": {},
   "source": [
    "### 3. Imputation of blank/null values."
   ]
  },
  {
   "cell_type": "code",
   "execution_count": null,
   "id": "b64e6e46-fff6-41b4-9082-7e12db3c90b6",
   "metadata": {},
   "outputs": [],
   "source": [
    "orders.isna().sum()"
   ]
  },
  {
   "cell_type": "code",
   "execution_count": null,
   "id": "84cbf296-169b-4ece-a888-0473359e2ec3",
   "metadata": {},
   "outputs": [],
   "source": [
    "orders[\"Additional Order items\"].sort_values().drop_duplicates()"
   ]
  },
  {
   "cell_type": "code",
   "execution_count": null,
   "id": "32ac9da0-b0ec-4221-af7d-40a1c152bee2",
   "metadata": {},
   "outputs": [],
   "source": [
    "orders[[\"Additional Order items\", \"Category\"]].sort_values(by=\"Category\").drop_duplicates()"
   ]
  },
  {
   "cell_type": "code",
   "execution_count": null,
   "id": "e5ade07e-06bf-40a0-b6c0-d1724a6dc301",
   "metadata": {},
   "outputs": [],
   "source": [
    "orders[\"Additional Order items\"] = orders[\"Additional Order items\"].fillna(orders[\"Category\"])"
   ]
  },
  {
   "cell_type": "code",
   "execution_count": null,
   "id": "d8060de8-d40f-4d68-91cb-cfeaeda0277f",
   "metadata": {},
   "outputs": [],
   "source": [
    "orders[orders[\"City\"].isin([\"CA\"])]"
   ]
  },
  {
   "cell_type": "code",
   "execution_count": null,
   "id": "45651c0a-d7d7-44ab-8995-b5dbb56afe41",
   "metadata": {},
   "outputs": [],
   "source": [
    "orders[\"ZIP Code\"] = orders[\"ZIP Code\"].fillna(orders[\"State\"])"
   ]
  },
  {
   "cell_type": "code",
   "execution_count": null,
   "id": "2ffb6dd8-b311-4e96-a235-71efcf92f8fb",
   "metadata": {},
   "outputs": [],
   "source": [
    "orders[\"ZIP Code\"] = orders[\"ZIP Code\"].astype(int)"
   ]
  },
  {
   "cell_type": "code",
   "execution_count": null,
   "id": "a9b50646-52e5-4e4d-980f-02df9116f25f",
   "metadata": {},
   "outputs": [],
   "source": [
    "orders[orders[\"State\"].isin([91732, 95758])]"
   ]
  },
  {
   "cell_type": "code",
   "execution_count": null,
   "id": "3dc57a6f-0b25-4da8-ac91-864557340175",
   "metadata": {},
   "outputs": [],
   "source": [
    "orders[\"State\"][orders[\"State\"].isin([91732, 95758])] = np.NaN"
   ]
  },
  {
   "cell_type": "code",
   "execution_count": null,
   "id": "88044b92-8d37-45dd-b881-f632ac0ecf41",
   "metadata": {},
   "outputs": [],
   "source": [
    "orders[orders[\"City\"] == \"CA\"]"
   ]
  },
  {
   "cell_type": "code",
   "execution_count": null,
   "id": "c6a2da9a-aef5-413b-bb86-36e76865a2ff",
   "metadata": {},
   "outputs": [],
   "source": [
    "orders[\"State\"] = orders[\"State\"].fillna(orders[\"City\"])"
   ]
  },
  {
   "cell_type": "code",
   "execution_count": null,
   "id": "bea50c12-7c04-4e8d-bf4d-b8ff0db84bd9",
   "metadata": {},
   "outputs": [],
   "source": [
    "orders[\"City\"][orders[\"City\"] == \"CA\"] = np.NaN"
   ]
  },
  {
   "cell_type": "code",
   "execution_count": null,
   "id": "bf5cec1e-937e-45b8-943e-34a350cc6d29",
   "metadata": {},
   "outputs": [],
   "source": [
    "orders[orders[\"City\"].isna()]"
   ]
  },
  {
   "cell_type": "code",
   "execution_count": null,
   "id": "76f866fe-e0f7-44ba-9712-af96df3c2dad",
   "metadata": {},
   "outputs": [],
   "source": [
    "orders[[\"City\",\"ZIP Code\"]][orders[\"ZIP Code\"].isin([91732,95758])].drop_duplicates()"
   ]
  },
  {
   "cell_type": "code",
   "execution_count": null,
   "id": "cf2b286f-cd1d-45b4-bf2e-f950c29110e8",
   "metadata": {},
   "outputs": [],
   "source": [
    "new_orders = orders[orders[\"ZIP Code\"].isin([91732,95758])]"
   ]
  },
  {
   "cell_type": "code",
   "execution_count": null,
   "id": "c3251e0c-c743-436a-82f4-e4924bb4d262",
   "metadata": {},
   "outputs": [],
   "source": [
    "new_orders = new_orders[[\"City\", \"ZIP Code\"]].merge(new_orders[[\"City\", \"ZIP Code\"]], how=\"inner\", on=\"ZIP Code\").drop_duplicates()"
   ]
  },
  {
   "cell_type": "code",
   "execution_count": null,
   "id": "8c84070c-6b9a-4206-8169-8ed5ced78498",
   "metadata": {},
   "outputs": [],
   "source": [
    "new_orders = new_orders[~new_orders[\"City_y\"].isna()]"
   ]
  },
  {
   "cell_type": "code",
   "execution_count": null,
   "id": "66bcd28a-aecc-4199-b116-b55738823c6a",
   "metadata": {},
   "outputs": [],
   "source": [
    "new_orders = new_orders[\"City_x\"].fillna(new_orders[\"City_y\"])"
   ]
  },
  {
   "cell_type": "code",
   "execution_count": null,
   "id": "fb3a734f-d1ee-4b82-a9ec-f0b4f5f29a23",
   "metadata": {},
   "outputs": [],
   "source": [
    "new_orders"
   ]
  },
  {
   "cell_type": "markdown",
   "id": "b038a27b-38a8-46c1-ad74-af2e89465829",
   "metadata": {},
   "source": [
    "### 4. Removal of redundant/irrelevant columns"
   ]
  },
  {
   "cell_type": "code",
   "execution_count": null,
   "id": "2cad1cd7-4a52-4c06-9c7f-99b31a8eade8",
   "metadata": {},
   "outputs": [],
   "source": [
    "orders = orders.drop(\"Additional Order items\", axis = 1)"
   ]
  },
  {
   "cell_type": "code",
   "execution_count": null,
   "id": "a65e43fe-d3b2-42db-841e-e3575d807acd",
   "metadata": {},
   "outputs": [],
   "source": [
    "orders[[\"Customer Id\", \"Order Customer Id\"]].sort_values(by=\"Customer Id\").drop_duplicates()"
   ]
  },
  {
   "cell_type": "code",
   "execution_count": null,
   "id": "8a99ef3c-ab94-448b-ba92-ad89be083c97",
   "metadata": {},
   "outputs": [],
   "source": [
    "(orders[\"Customer Id\"] != orders[\"Order Customer Id\"]).any()"
   ]
  },
  {
   "cell_type": "code",
   "execution_count": null,
   "id": "b80b00ea-6c17-4224-a36a-adf83f119860",
   "metadata": {},
   "outputs": [],
   "source": [
    "orders = orders.drop(\"Order Customer Id\", axis = 1)"
   ]
  },
  {
   "cell_type": "markdown",
   "id": "9c0d1396-91ed-4652-8683-0a397527ec57",
   "metadata": {},
   "source": [
    "## E-Commerce Sales Data Analysis."
   ]
  },
  {
   "cell_type": "markdown",
   "id": "9d7a0e71-9938-4d62-9735-908b05dfcef6",
   "metadata": {},
   "source": [
    "#### 1. Key Performance Indicators"
   ]
  },
  {
   "cell_type": "code",
   "execution_count": null,
   "id": "f47d8203-f215-4232-9757-4ab8b73e92f9",
   "metadata": {},
   "outputs": [],
   "source": []
  }
 ],
 "metadata": {
  "kernelspec": {
   "display_name": "Python 3 (ipykernel)",
   "language": "python",
   "name": "python3"
  },
  "language_info": {
   "codemirror_mode": {
    "name": "ipython",
    "version": 3
   },
   "file_extension": ".py",
   "mimetype": "text/x-python",
   "name": "python",
   "nbconvert_exporter": "python",
   "pygments_lexer": "ipython3",
   "version": "3.12.4"
  }
 },
 "nbformat": 4,
 "nbformat_minor": 5
}
