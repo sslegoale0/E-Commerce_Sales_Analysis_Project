{
 "cells": [
  {
   "cell_type": "markdown",
   "id": "16f84cd4-c54a-450f-b51b-8d2b870475b5",
   "metadata": {},
   "source": [
    "## E-Commerce Sales Data Cleaning."
   ]
  },
  {
   "cell_type": "markdown",
   "id": "40560496-6244-4719-a227-09d9a8dc635c",
   "metadata": {},
   "source": [
    "#### Importing python libraries."
   ]
  },
  {
   "cell_type": "code",
   "execution_count": null,
   "id": "1b5b6567-45bc-401e-9d32-f3ff8364a4b5",
   "metadata": {},
   "outputs": [],
   "source": [
    "import numpy as np\n",
    "import pandas as pd\n",
    "import matplotlib.pyplot as plt\n",
    "import seaborn as sns"
   ]
  },
  {
   "cell_type": "markdown",
   "id": "0e0a87dd-6099-41fd-b625-a4ca2d943e75",
   "metadata": {},
   "source": [
    "#### Importing e-commerce sales data into jupyter notebook."
   ]
  },
  {
   "cell_type": "code",
   "execution_count": null,
   "id": "a808562b-0b2a-4b73-bf0a-029bff9ee21d",
   "metadata": {},
   "outputs": [],
   "source": [
    "orders = pd.read_excel(\"E-Commerce Sales Data.xlsx\")"
   ]
  },
  {
   "cell_type": "markdown",
   "id": "51319c4a-3515-409f-813b-715d4b6739e6",
   "metadata": {},
   "source": [
    "#### Reading the orders dataframe"
   ]
  },
  {
   "cell_type": "code",
   "execution_count": null,
   "id": "afd7047d-c9bb-4fcc-a2ac-b6e6848e68ea",
   "metadata": {},
   "outputs": [],
   "source": [
    "orders"
   ]
  },
  {
   "cell_type": "markdown",
   "id": "9a62c17f-d66c-4b58-a862-6f0447183003",
   "metadata": {},
   "source": [
    "#### Getting information (shape & data types) on the columns orders dataframe."
   ]
  },
  {
   "cell_type": "code",
   "execution_count": null,
   "id": "0f465e77-cf93-4f79-a11c-b029717e1f34",
   "metadata": {},
   "outputs": [],
   "source": [
    "orders.info()"
   ]
  },
  {
   "cell_type": "markdown",
   "id": "1ee33184-a5a8-49e2-8e1f-1e99f509d463",
   "metadata": {},
   "source": [
    "#### Renaming orders columns."
   ]
  },
  {
   "cell_type": "code",
   "execution_count": null,
   "id": "7c2e9482-5656-4203-99c1-fb77bd7bc50f",
   "metadata": {},
   "outputs": [],
   "source": [
    "orders = orders.rename(columns = {\"Category Name\":\"Category\", \"Customer City\":\"City\", \"Customer Country\":\"Country\", \"Customer Fname\":\"Customer Name\", \"Customer Segment\":\"Segment\", \"Customer State\":\"State\", \"Customer Zipcode\":\"ZIP Code\", \"Order Region\":\"Region\", \"Order Quantity\":\"Quantity\", \"Profit Per Order\":\"Profit\"})"
   ]
  },
  {
   "cell_type": "markdown",
   "id": "cc7e6581-6173-47de-bac7-69437240ecb2",
   "metadata": {},
   "source": [
    "#### Getting new column names."
   ]
  },
  {
   "cell_type": "code",
   "execution_count": null,
   "id": "c4ad25c4-f9f9-4871-8458-7bdc6b0fd5dc",
   "metadata": {},
   "outputs": [],
   "source": [
    "orders.columns"
   ]
  },
  {
   "cell_type": "markdown",
   "id": "d7f87220-6ccc-4d89-aa02-9d3d4904bc06",
   "metadata": {},
   "source": [
    "### 1. Removal of duplicated rows."
   ]
  },
  {
   "cell_type": "code",
   "execution_count": null,
   "id": "15704e03-44f6-4bb7-b1fc-2149ba2fdc1a",
   "metadata": {},
   "outputs": [],
   "source": [
    "orders.duplicated().sum()"
   ]
  },
  {
   "cell_type": "markdown",
   "id": "1b0d0a69-aebe-444d-9915-3d1d7a032e06",
   "metadata": {},
   "source": [
    "### 2. Data formatting and standardisation."
   ]
  },
  {
   "cell_type": "code",
   "execution_count": null,
   "id": "699f3118-86f0-4cfb-bdd4-9bf01ac1c5ce",
   "metadata": {},
   "outputs": [],
   "source": [
    "orders[\"Additional Order items\"].sort_values().unique()"
   ]
  },
  {
   "cell_type": "code",
   "execution_count": null,
   "id": "e0fe0471-a828-4edc-b347-ca980c0930df",
   "metadata": {},
   "outputs": [],
   "source": [
    "orders[\"Category\"].sort_values().unique()"
   ]
  },
  {
   "cell_type": "code",
   "execution_count": null,
   "id": "567b7704-99fd-4950-8721-baad684a1e58",
   "metadata": {},
   "outputs": [],
   "source": [
    "orders[\"City\"].sort_values().unique()"
   ]
  },
  {
   "cell_type": "code",
   "execution_count": null,
   "id": "f920f2ed-f192-4f86-8013-5fef776aada9",
   "metadata": {},
   "outputs": [],
   "source": [
    "orders[orders[\"City\"] == \"CA\"]"
   ]
  },
  {
   "cell_type": "code",
   "execution_count": null,
   "id": "19fc6ee4-07b7-4a2b-988b-a99ab52c02f9",
   "metadata": {},
   "outputs": [],
   "source": [
    "orders[\"Country\"].sort_values().unique()"
   ]
  },
  {
   "cell_type": "code",
   "execution_count": null,
   "id": "113269a2-5c9d-495d-b2b4-ebcb2119b2d9",
   "metadata": {},
   "outputs": [],
   "source": [
    "orders[\"Customer Id\"].sort_values().unique()"
   ]
  },
  {
   "cell_type": "code",
   "execution_count": null,
   "id": "88d09504-ba5f-48cd-86e2-f591db4a6629",
   "metadata": {},
   "outputs": [],
   "source": [
    "orders[\"Segment\"].sort_values().unique()"
   ]
  },
  {
   "cell_type": "code",
   "execution_count": null,
   "id": "b73caccc-fc56-4b02-b6cd-7f08ab2f8824",
   "metadata": {},
   "outputs": [],
   "source": [
    "orders[\"State\"].unique()"
   ]
  },
  {
   "cell_type": "code",
   "execution_count": null,
   "id": "727a5e86-2915-4553-962d-0fdf09595669",
   "metadata": {},
   "outputs": [],
   "source": [
    "orders[\"ZIP Code\"].sort_values().unique()"
   ]
  },
  {
   "cell_type": "code",
   "execution_count": null,
   "id": "7246b8aa-5383-4f85-bbcf-66ffe791acb0",
   "metadata": {},
   "outputs": [],
   "source": [
    "orders[\"Market\"].sort_values().unique()"
   ]
  },
  {
   "cell_type": "code",
   "execution_count": null,
   "id": "ee1e7016-ec46-481c-a4cd-b208973fa99f",
   "metadata": {},
   "outputs": [],
   "source": [
    "orders[\"Order Date\"].sort_values().unique()"
   ]
  },
  {
   "cell_type": "code",
   "execution_count": null,
   "id": "dfbb22e9-6edd-4ba9-ba35-4329fa3f84f6",
   "metadata": {},
   "outputs": [],
   "source": [
    "orders[\"Order Date\"] = pd.to_datetime(orders[\"Order Date\"], format=\"%d-%m-%Y\")"
   ]
  },
  {
   "cell_type": "code",
   "execution_count": null,
   "id": "b55a7317-df5d-4abf-877b-d0f7589c5c15",
   "metadata": {},
   "outputs": [],
   "source": [
    "orders[\"Order Id\"].sort_values().unique()"
   ]
  },
  {
   "cell_type": "code",
   "execution_count": null,
   "id": "5ac6ed9a-68d8-4d0f-828d-fc859567e413",
   "metadata": {},
   "outputs": [],
   "source": [
    "orders[\"Region\"].sort_values().unique()"
   ]
  },
  {
   "cell_type": "code",
   "execution_count": null,
   "id": "47865999-ab79-4cd2-924d-259661177133",
   "metadata": {},
   "outputs": [],
   "source": [
    "orders[\"Region\"] = orders[\"Region\"].replace(\"US Center\", \"Centre of USA\")"
   ]
  },
  {
   "cell_type": "code",
   "execution_count": null,
   "id": "e87f364f-fdb9-4f05-b86a-b827d5fdb7bf",
   "metadata": {},
   "outputs": [],
   "source": [
    "orders[[\"Region\",\"Market\"]].sort_values(by=\"Market\").drop_duplicates()"
   ]
  },
  {
   "cell_type": "code",
   "execution_count": null,
   "id": "66f4fb29-9d28-4bda-91be-e82eb01c9814",
   "metadata": {},
   "outputs": [],
   "source": [
    "orders[\"Market\"] = orders[\"Market\"].replace({\"LATAM\": \"Latin America\", \"Pacific Asia\":\"Asia\", \"USCA\":\"North America\"})"
   ]
  },
  {
   "cell_type": "code",
   "execution_count": null,
   "id": "71c783e5-522f-4eec-99f0-3c778ca765a5",
   "metadata": {},
   "outputs": [],
   "source": [
    "orders[\"Order Item Total\"].sort_values().unique()"
   ]
  },
  {
   "cell_type": "code",
   "execution_count": null,
   "id": "8e7abc8f-8c52-4cc8-b28b-987c91124e1f",
   "metadata": {},
   "outputs": [],
   "source": [
    "orders[\"Quantity\"].sort_values().unique()"
   ]
  },
  {
   "cell_type": "code",
   "execution_count": null,
   "id": "dde3d3c0-6e93-4a2e-b0d1-0d525d3ff076",
   "metadata": {},
   "outputs": [],
   "source": [
    "orders[\"Product Price\"].sort_values().unique()"
   ]
  },
  {
   "cell_type": "code",
   "execution_count": null,
   "id": "4fccf87d-21bf-47af-a02d-ee5c52691a4b",
   "metadata": {},
   "outputs": [],
   "source": [
    "orders[\"Profit Margin\"].sort_values().unique()"
   ]
  },
  {
   "cell_type": "code",
   "execution_count": null,
   "id": "32852e38-b64d-4a67-be47-630cc7062652",
   "metadata": {},
   "outputs": [],
   "source": [
    "orders[\"Profit Margin\"] = orders[\"Profit Margin\"].str.split(\"%\").str.get(0).astype(float)/100"
   ]
  },
  {
   "cell_type": "code",
   "execution_count": null,
   "id": "c3493715-9220-455f-b8d6-7ce1ed23ad4c",
   "metadata": {},
   "outputs": [],
   "source": [
    "orders[\"Profit\"].sort_values().unique()"
   ]
  },
  {
   "cell_type": "code",
   "execution_count": null,
   "id": "32d99f6b-d364-4d09-b720-7bacc3475674",
   "metadata": {},
   "outputs": [],
   "source": [
    "orders[\"Sales\"].sort_values().unique()"
   ]
  },
  {
   "cell_type": "markdown",
   "id": "8cb88c79-5c0c-43b3-bf23-b316ceac242c",
   "metadata": {},
   "source": [
    "### 3. Imputation of blank/null values."
   ]
  },
  {
   "cell_type": "code",
   "execution_count": null,
   "id": "b64e6e46-fff6-41b4-9082-7e12db3c90b6",
   "metadata": {},
   "outputs": [],
   "source": [
    "orders.isna().sum()"
   ]
  },
  {
   "cell_type": "code",
   "execution_count": null,
   "id": "84cbf296-169b-4ece-a888-0473359e2ec3",
   "metadata": {},
   "outputs": [],
   "source": [
    "orders[\"Additional Order items\"].sort_values().drop_duplicates()"
   ]
  },
  {
   "cell_type": "code",
   "execution_count": null,
   "id": "32ac9da0-b0ec-4221-af7d-40a1c152bee2",
   "metadata": {},
   "outputs": [],
   "source": [
    "orders[[\"Additional Order items\", \"Category\"]].sort_values(by=\"Category\").drop_duplicates()"
   ]
  },
  {
   "cell_type": "code",
   "execution_count": null,
   "id": "e5ade07e-06bf-40a0-b6c0-d1724a6dc301",
   "metadata": {},
   "outputs": [],
   "source": [
    "orders[\"Additional Order items\"] = orders[\"Additional Order items\"].fillna(orders[\"Category\"])"
   ]
  },
  {
   "cell_type": "code",
   "execution_count": null,
   "id": "d8060de8-d40f-4d68-91cb-cfeaeda0277f",
   "metadata": {},
   "outputs": [],
   "source": [
    "orders[orders[\"City\"].isin([\"CA\"])]"
   ]
  },
  {
   "cell_type": "code",
   "execution_count": null,
   "id": "45651c0a-d7d7-44ab-8995-b5dbb56afe41",
   "metadata": {},
   "outputs": [],
   "source": [
    "orders[\"ZIP Code\"] = orders[\"ZIP Code\"].fillna(orders[\"State\"])"
   ]
  },
  {
   "cell_type": "code",
   "execution_count": null,
   "id": "2ffb6dd8-b311-4e96-a235-71efcf92f8fb",
   "metadata": {},
   "outputs": [],
   "source": [
    "orders[\"ZIP Code\"] = orders[\"ZIP Code\"].astype(int)"
   ]
  },
  {
   "cell_type": "code",
   "execution_count": null,
   "id": "a9b50646-52e5-4e4d-980f-02df9116f25f",
   "metadata": {},
   "outputs": [],
   "source": [
    "orders[orders[\"State\"].isin([91732, 95758])]"
   ]
  },
  {
   "cell_type": "code",
   "execution_count": null,
   "id": "3dc57a6f-0b25-4da8-ac91-864557340175",
   "metadata": {},
   "outputs": [],
   "source": [
    "orders[\"State\"][orders[\"State\"].isin([91732, 95758])] = np.NaN"
   ]
  },
  {
   "cell_type": "code",
   "execution_count": null,
   "id": "88044b92-8d37-45dd-b881-f632ac0ecf41",
   "metadata": {},
   "outputs": [],
   "source": [
    "orders[orders[\"City\"] == \"CA\"]"
   ]
  },
  {
   "cell_type": "code",
   "execution_count": null,
   "id": "c6a2da9a-aef5-413b-bb86-36e76865a2ff",
   "metadata": {},
   "outputs": [],
   "source": [
    "orders[\"State\"] = orders[\"State\"].fillna(orders[\"City\"])"
   ]
  },
  {
   "cell_type": "code",
   "execution_count": null,
   "id": "bea50c12-7c04-4e8d-bf4d-b8ff0db84bd9",
   "metadata": {},
   "outputs": [],
   "source": [
    "orders[\"City\"][orders[\"City\"] == \"CA\"] = np.NaN"
   ]
  },
  {
   "cell_type": "code",
   "execution_count": null,
   "id": "bf5cec1e-937e-45b8-943e-34a350cc6d29",
   "metadata": {},
   "outputs": [],
   "source": [
    "orders[orders[\"City\"].isna()]"
   ]
  },
  {
   "cell_type": "code",
   "execution_count": null,
   "id": "76f866fe-e0f7-44ba-9712-af96df3c2dad",
   "metadata": {},
   "outputs": [],
   "source": [
    "orders[[\"City\",\"ZIP Code\"]][orders[\"ZIP Code\"].isin([91732,95758])].drop_duplicates()"
   ]
  },
  {
   "cell_type": "code",
   "execution_count": null,
   "id": "cf2b286f-cd1d-45b4-bf2e-f950c29110e8",
   "metadata": {},
   "outputs": [],
   "source": [
    "new_orders = orders[orders[\"ZIP Code\"].isin([91732,95758])]"
   ]
  },
  {
   "cell_type": "code",
   "execution_count": null,
   "id": "c3251e0c-c743-436a-82f4-e4924bb4d262",
   "metadata": {},
   "outputs": [],
   "source": [
    "new_orders = new_orders[[\"City\", \"ZIP Code\"]].merge(new_orders[[\"City\", \"ZIP Code\"]], how=\"inner\", on=\"ZIP Code\").drop_duplicates()"
   ]
  },
  {
   "cell_type": "code",
   "execution_count": null,
   "id": "8c84070c-6b9a-4206-8169-8ed5ced78498",
   "metadata": {},
   "outputs": [],
   "source": [
    "new_orders = new_orders[~new_orders[\"City_y\"].isna()]"
   ]
  },
  {
   "cell_type": "code",
   "execution_count": null,
   "id": "66bcd28a-aecc-4199-b116-b55738823c6a",
   "metadata": {},
   "outputs": [],
   "source": [
    "new_orders = new_orders[\"City_x\"].fillna(new_orders[\"City_y\"])"
   ]
  },
  {
   "cell_type": "code",
   "execution_count": null,
   "id": "fb3a734f-d1ee-4b82-a9ec-f0b4f5f29a23",
   "metadata": {},
   "outputs": [],
   "source": [
    "new_orders"
   ]
  },
  {
   "cell_type": "markdown",
   "id": "b038a27b-38a8-46c1-ad74-af2e89465829",
   "metadata": {},
   "source": [
    "### 4. Removal of columns redundant/irrelevant to the analysis"
   ]
  },
  {
   "cell_type": "code",
   "execution_count": null,
   "id": "2cad1cd7-4a52-4c06-9c7f-99b31a8eade8",
   "metadata": {},
   "outputs": [],
   "source": [
    "orders = orders.drop(\"Additional Order items\", axis = 1)"
   ]
  },
  {
   "cell_type": "code",
   "execution_count": null,
   "id": "a65e43fe-d3b2-42db-841e-e3575d807acd",
   "metadata": {},
   "outputs": [],
   "source": [
    "orders[[\"Customer Id\", \"Order Customer Id\"]].sort_values(by=\"Customer Id\").drop_duplicates()"
   ]
  },
  {
   "cell_type": "code",
   "execution_count": null,
   "id": "8a99ef3c-ab94-448b-ba92-ad89be083c97",
   "metadata": {},
   "outputs": [],
   "source": [
    "(orders[\"Customer Id\"] != orders[\"Order Customer Id\"]).any()"
   ]
  },
  {
   "cell_type": "code",
   "execution_count": null,
   "id": "b80b00ea-6c17-4224-a36a-adf83f119860",
   "metadata": {},
   "outputs": [],
   "source": [
    "orders = orders.drop(\"Order Customer Id\", axis = 1)"
   ]
  },
  {
   "cell_type": "markdown",
   "id": "3d6dda49-8591-4161-9934-696cf12b699a",
   "metadata": {},
   "source": [
    "#### 5. Removal of rows irrelevant to the analysis"
   ]
  },
  {
   "cell_type": "code",
   "execution_count": null,
   "id": "26be2bcb-6bc9-44e5-99cf-6068e0e44091",
   "metadata": {},
   "outputs": [],
   "source": [
    "orders[\"State\"].sort_values().unique()"
   ]
  },
  {
   "cell_type": "code",
   "execution_count": null,
   "id": "6eeb3005-8d51-47f6-89f6-a8092c3cac67",
   "metadata": {},
   "outputs": [],
   "source": [
    "orders = orders[~orders[\"State\"].isin([\"HI\", \"PR\"])]"
   ]
  },
  {
   "cell_type": "markdown",
   "id": "9c0d1396-91ed-4652-8683-0a397527ec57",
   "metadata": {},
   "source": [
    "## E-Commerce Sales Data Analysis."
   ]
  },
  {
   "cell_type": "markdown",
   "id": "9d7a0e71-9938-4d62-9735-908b05dfcef6",
   "metadata": {},
   "source": [
    "#### 1. Total Sales"
   ]
  },
  {
   "cell_type": "code",
   "execution_count": null,
   "id": "f47d8203-f215-4232-9757-4ab8b73e92f9",
   "metadata": {},
   "outputs": [],
   "source": [
    "orders[\"Sales\"].sum().round(0)"
   ]
  },
  {
   "cell_type": "code",
   "execution_count": null,
   "id": "eae63429-1692-4afb-bbf8-93ec407dd242",
   "metadata": {},
   "outputs": [],
   "source": [
    "orders[\"Order Year\"] = orders[\"Order Date\"].dt.year"
   ]
  },
  {
   "cell_type": "code",
   "execution_count": null,
   "id": "349aa256-ad2c-433d-b686-84c4b60a7f94",
   "metadata": {},
   "outputs": [],
   "source": [
    "orders[\"Order Month\"] = orders[\"Order Date\"].dt.month"
   ]
  },
  {
   "cell_type": "code",
   "execution_count": null,
   "id": "7261b04b-b2b3-49e5-8133-30d8a1922de6",
   "metadata": {},
   "outputs": [],
   "source": [
    "orders[\"Order Month Name\"] = orders[\"Order Date\"].dt.month_name()"
   ]
  },
  {
   "cell_type": "code",
   "execution_count": null,
   "id": "a22a9b44-c2ab-4b37-9a7a-e4184772aaff",
   "metadata": {},
   "outputs": [],
   "source": [
    "orders[orders[\"Order Year\"] == 2017][\"Sales\"].sum().round(0)"
   ]
  },
  {
   "cell_type": "markdown",
   "id": "377f925c-1ed3-4e77-8fed-465152f0b45f",
   "metadata": {},
   "source": [
    "##### YoY Sales (%)"
   ]
  },
  {
   "cell_type": "code",
   "execution_count": null,
   "id": "50291c1f-9d19-49c6-8d36-ad87cca0e686",
   "metadata": {},
   "outputs": [],
   "source": [
    "((orders[orders[\"Order Year\"] == 2017][\"Sales\"].sum() - orders[orders[\"Order Year\"] == 2016][\"Sales\"].sum())*100/orders[orders[\"Order Year\"] == 2016][\"Sales\"].sum()).round(1)"
   ]
  },
  {
   "cell_type": "markdown",
   "id": "2091c404-261d-4036-93c9-4b1818e92e76",
   "metadata": {},
   "source": [
    "#### 2. Total Sales by Month"
   ]
  },
  {
   "cell_type": "code",
   "execution_count": null,
   "id": "e9570a17-c23c-46d2-9db2-76da63acc67a",
   "metadata": {},
   "outputs": [],
   "source": [
    "orders[orders[\"Order Year\"] == 2017].groupby([\"Order Month\", \"Order Month Name\"])[\"Sales\"].sum().round(0)"
   ]
  },
  {
   "cell_type": "markdown",
   "id": "be4c82c9-28a7-43da-85ff-d6ef1364b1dc",
   "metadata": {},
   "source": [
    "#### 3. Total Sales by State"
   ]
  },
  {
   "cell_type": "code",
   "execution_count": null,
   "id": "ced25db5-97ac-4a60-a4d6-17ae5437041d",
   "metadata": {},
   "outputs": [],
   "source": [
    "orders[orders[\"Order Year\"] == 2017].groupby(\"State\")[\"Sales\"].sum().round(0)"
   ]
  },
  {
   "cell_type": "markdown",
   "id": "209ddfee-8eac-419f-9f80-eaa624755e88",
   "metadata": {},
   "source": [
    "#### 4. Total Sales by Category"
   ]
  },
  {
   "cell_type": "code",
   "execution_count": null,
   "id": "c374ed8f-1648-4257-afdf-f957303169f5",
   "metadata": {},
   "outputs": [],
   "source": [
    "orders[orders[\"Order Year\"] == 2017].groupby(\"Category\")[\"Sales\"].sum().round(0)"
   ]
  },
  {
   "cell_type": "markdown",
   "id": "a6c7e3b0-97ae-458a-b86a-dda0d59b4788",
   "metadata": {},
   "source": [
    "#### 5. Total Sales by Market"
   ]
  },
  {
   "cell_type": "code",
   "execution_count": null,
   "id": "b8bf67d3-23d2-4578-afbf-6f2b3a1885a7",
   "metadata": {},
   "outputs": [],
   "source": [
    "orders[orders[\"Order Year\"] == 2017].groupby(\"Market\")[\"Sales\"].sum().round(0)"
   ]
  },
  {
   "cell_type": "markdown",
   "id": "f46983f9-b36e-4a5b-b81b-609bb3ce9cec",
   "metadata": {},
   "source": [
    "#### 6. Total Sales by Region"
   ]
  },
  {
   "cell_type": "code",
   "execution_count": null,
   "id": "4e26e84d-73e8-4846-a48e-f29d40de7bed",
   "metadata": {},
   "outputs": [],
   "source": [
    "orders[orders[\"Order Year\"] == 2017].groupby(\"Region\")[\"Sales\"].sum().round(0)"
   ]
  },
  {
   "cell_type": "markdown",
   "id": "c9ffccb5-1435-4514-9781-abe004dabc9c",
   "metadata": {},
   "source": [
    "#### 7. Total Sales by Segment"
   ]
  },
  {
   "cell_type": "code",
   "execution_count": null,
   "id": "42dd4025-3bc2-4abc-85da-4d9936c4c494",
   "metadata": {},
   "outputs": [],
   "source": [
    "orders[orders[\"Order Year\"] == 2017].groupby(\"Segment\")[\"Sales\"].sum().round(0)"
   ]
  },
  {
   "cell_type": "markdown",
   "id": "83bde004-aa25-4fce-811d-79695217bcbf",
   "metadata": {},
   "source": [
    "#### 8. Total Quantity"
   ]
  },
  {
   "cell_type": "code",
   "execution_count": null,
   "id": "b0ffafdd-c789-42f6-ab80-7ddad6f72154",
   "metadata": {},
   "outputs": [],
   "source": [
    "orders[\"Quantity\"].sum().round(0)"
   ]
  },
  {
   "cell_type": "code",
   "execution_count": null,
   "id": "57737e4f-bd90-40ad-a700-fb430d5d9e03",
   "metadata": {},
   "outputs": [],
   "source": [
    "orders[orders[\"Order Year\"] == 2017][\"Quantity\"].sum().round(0)"
   ]
  },
  {
   "cell_type": "markdown",
   "id": "e19ba23d-6c90-4b6d-a09b-528f29d6db14",
   "metadata": {},
   "source": [
    "##### YoY Quantity (%)"
   ]
  },
  {
   "cell_type": "code",
   "execution_count": null,
   "id": "7898c1d8-8aae-4098-b90c-3a954a29c995",
   "metadata": {},
   "outputs": [],
   "source": [
    "((orders[orders[\"Order Year\"] == 2017][\"Quantity\"].sum() - orders[orders[\"Order Year\"] == 2016][\"Quantity\"].sum())*100/orders[orders[\"Order Year\"] == 2016][\"Quantity\"].sum()).round(1)"
   ]
  },
  {
   "cell_type": "markdown",
   "id": "f4193bd0-9824-457d-813e-f9f652b0ce40",
   "metadata": {},
   "source": [
    "#### 9. Total Quantity by Month"
   ]
  },
  {
   "cell_type": "code",
   "execution_count": null,
   "id": "6ab59878-48da-4a78-b5d8-53219db3af61",
   "metadata": {},
   "outputs": [],
   "source": [
    "orders[orders[\"Order Year\"] == 2017].groupby([\"Order Month\", \"Order Month Name\"])[\"Quantity\"].sum().round(0)"
   ]
  },
  {
   "cell_type": "markdown",
   "id": "df9a9abc-5593-4898-9e2d-9b236b3d67df",
   "metadata": {},
   "source": [
    "#### 10. Total Quantity by State"
   ]
  },
  {
   "cell_type": "code",
   "execution_count": null,
   "id": "9e8bfe30-f65d-491e-af2c-bdf3b54d3b80",
   "metadata": {},
   "outputs": [],
   "source": [
    "orders[orders[\"Order Year\"] == 2017].groupby(\"State\")[\"Quantity\"].sum().round(0)"
   ]
  },
  {
   "cell_type": "markdown",
   "id": "e14027fe-5db8-4888-99b4-d56a18d4fbb2",
   "metadata": {},
   "source": [
    "#### 11. Total Quantity by Category"
   ]
  },
  {
   "cell_type": "code",
   "execution_count": null,
   "id": "3b880de0-50bc-4550-b6e1-94dccc2b0354",
   "metadata": {},
   "outputs": [],
   "source": [
    "orders[orders[\"Order Year\"] == 2017].groupby(\"Category\")[\"Quantity\"].sum().round(0)"
   ]
  },
  {
   "cell_type": "markdown",
   "id": "f309146e-2aad-4b4e-b38d-ffad8daa5353",
   "metadata": {},
   "source": [
    "#### 12. Total Quantity by Market"
   ]
  },
  {
   "cell_type": "code",
   "execution_count": null,
   "id": "8e19ea0d-0f29-48ec-9b9c-3fccda37e5b1",
   "metadata": {},
   "outputs": [],
   "source": [
    "orders[orders[\"Order Year\"] == 2017].groupby(\"Market\")[\"Quantity\"].sum().round(0)"
   ]
  },
  {
   "cell_type": "markdown",
   "id": "35082cd1-9473-4b19-8f6e-c2a69e1e864d",
   "metadata": {},
   "source": [
    "#### 13. Total Quantity by Region"
   ]
  },
  {
   "cell_type": "code",
   "execution_count": null,
   "id": "b049f91f-7d45-4710-a664-a081bef3839d",
   "metadata": {},
   "outputs": [],
   "source": [
    "orders[orders[\"Order Year\"] == 2017].groupby(\"Region\")[\"Quantity\"].sum().round(0)"
   ]
  },
  {
   "cell_type": "markdown",
   "id": "626561d9-2058-4456-b6b1-bdf412cad884",
   "metadata": {},
   "source": [
    "#### 14. Total Quantity by Segment"
   ]
  },
  {
   "cell_type": "code",
   "execution_count": null,
   "id": "228d3644-8f50-40f1-8aa5-a5d2d16482c9",
   "metadata": {},
   "outputs": [],
   "source": [
    "orders[orders[\"Order Year\"] == 2017].groupby(\"Segment\")[\"Quantity\"].sum().round(0)"
   ]
  },
  {
   "cell_type": "markdown",
   "id": "9c51f002-dec0-4951-a170-cfbf8695a470",
   "metadata": {},
   "source": [
    "#### 15. Total Profit"
   ]
  },
  {
   "cell_type": "code",
   "execution_count": null,
   "id": "d92a6525-b7c2-4cc0-b57f-73f4d0a5d3e5",
   "metadata": {},
   "outputs": [],
   "source": [
    "orders[\"Profit\"].sum().round(0)"
   ]
  },
  {
   "cell_type": "code",
   "execution_count": null,
   "id": "0cd3bdd2-5060-421a-b238-86b5731f0853",
   "metadata": {},
   "outputs": [],
   "source": [
    "orders[orders[\"Order Year\"] == 2017][\"Profit\"].sum().round(0)"
   ]
  },
  {
   "cell_type": "markdown",
   "id": "028d0b64-873d-45cb-b321-3f07cdb295c2",
   "metadata": {},
   "source": [
    "##### YoY Profit (%)"
   ]
  },
  {
   "cell_type": "code",
   "execution_count": null,
   "id": "dce9e443-75b8-43e7-8823-2af8f279e17f",
   "metadata": {},
   "outputs": [],
   "source": [
    "((orders[orders[\"Order Year\"] == 2017][\"Profit\"].sum() - orders[orders[\"Order Year\"] == 2016][\"Profit\"].sum())*100/orders[orders[\"Order Year\"] == 2016][\"Profit\"].sum()).round(1)"
   ]
  },
  {
   "cell_type": "markdown",
   "id": "473f4c01-25e3-4c8a-b0a2-5bd6d92c5284",
   "metadata": {},
   "source": [
    "#### 16. Total Profit by Month"
   ]
  },
  {
   "cell_type": "code",
   "execution_count": null,
   "id": "fb64faba-fa0e-4855-85aa-43cf6398c3eb",
   "metadata": {},
   "outputs": [],
   "source": [
    "orders[orders[\"Order Year\"] == 2017].groupby([\"Order Month\", \"Order Month Name\"])[\"Profit\"].sum().round(0)"
   ]
  },
  {
   "cell_type": "markdown",
   "id": "ba6d1b89-ba78-4950-a8dd-a14d2612ecf2",
   "metadata": {},
   "source": [
    "#### 17. Total Profit by State"
   ]
  },
  {
   "cell_type": "code",
   "execution_count": null,
   "id": "4fea1276-d92f-49c0-918e-cd282d42e285",
   "metadata": {},
   "outputs": [],
   "source": [
    "orders[orders[\"Order Year\"] == 2017].groupby(\"State\")[\"Profit\"].sum().round(0)"
   ]
  },
  {
   "cell_type": "markdown",
   "id": "fde2a1a6-b329-4761-a1e7-0c4512f0d904",
   "metadata": {},
   "source": [
    "#### 18. Total Profit by Category"
   ]
  },
  {
   "cell_type": "code",
   "execution_count": null,
   "id": "fcc2b4b3-97ff-4929-ad19-6fce78b47002",
   "metadata": {},
   "outputs": [],
   "source": [
    "orders[orders[\"Order Year\"] == 2017].groupby(\"Category\")[\"Profit\"].sum().round(0)"
   ]
  },
  {
   "cell_type": "markdown",
   "id": "bf002450-a66e-4606-af8d-e6f3eef32339",
   "metadata": {},
   "source": [
    "#### 19. Total Profit by Market"
   ]
  },
  {
   "cell_type": "code",
   "execution_count": null,
   "id": "58839d64-0a86-4c4d-8b9e-af150fe72176",
   "metadata": {},
   "outputs": [],
   "source": [
    "orders[orders[\"Order Year\"] == 2017].groupby(\"Market\")[\"Profit\"].sum().round(0)"
   ]
  },
  {
   "cell_type": "markdown",
   "id": "d6bedd39-f35e-4d6e-9fe7-6cae267265f6",
   "metadata": {},
   "source": [
    "#### 20. Total Profit by Region"
   ]
  },
  {
   "cell_type": "code",
   "execution_count": null,
   "id": "d856463c-141f-4fa1-a6a4-065312a530e2",
   "metadata": {},
   "outputs": [],
   "source": [
    "orders[orders[\"Order Year\"] == 2017].groupby(\"Region\")[\"Profit\"].sum().round(0)"
   ]
  },
  {
   "cell_type": "markdown",
   "id": "b47739f5-0209-4a4c-a8b2-09ecd042e2ca",
   "metadata": {},
   "source": [
    "#### 21. Total Profit by Segment"
   ]
  },
  {
   "cell_type": "code",
   "execution_count": null,
   "id": "75aeef71-56c8-4b47-bb2f-9ade04824151",
   "metadata": {},
   "outputs": [],
   "source": [
    "orders[orders[\"Order Year\"] == 2017].groupby(\"Segment\")[\"Profit\"].sum().round(0)"
   ]
  },
  {
   "cell_type": "markdown",
   "id": "b8348445-1ebd-49e9-8364-84afc554896f",
   "metadata": {},
   "source": [
    "#### 22. Total Orders"
   ]
  },
  {
   "cell_type": "code",
   "execution_count": null,
   "id": "44551a93-cdb6-4d93-9d83-9bd734b67f7a",
   "metadata": {},
   "outputs": [],
   "source": [
    "orders[\"Order Id\"].nunique()"
   ]
  },
  {
   "cell_type": "code",
   "execution_count": null,
   "id": "69c5b28a-395d-450d-9f4c-e44de22fc379",
   "metadata": {},
   "outputs": [],
   "source": [
    "orders[orders[\"Order Year\"] == 2017][\"Order Id\"].nunique()"
   ]
  },
  {
   "cell_type": "markdown",
   "id": "1a138815-7ac0-4e49-999f-8995f4429b68",
   "metadata": {},
   "source": [
    "##### YoY Orders (%)"
   ]
  },
  {
   "cell_type": "code",
   "execution_count": null,
   "id": "14ed76ae-4cae-4e80-809e-801941db1e43",
   "metadata": {},
   "outputs": [],
   "source": [
    "((orders[orders[\"Order Year\"] == 2017][\"Order Id\"].nunique() - orders[orders[\"Order Year\"] == 2016][\"Order Id\"].nunique())*100/orders[orders[\"Order Year\"] == 2016][\"Order Id\"].nunique())"
   ]
  },
  {
   "cell_type": "markdown",
   "id": "449b59b1-a925-407e-9904-404616ff4115",
   "metadata": {},
   "source": [
    "#### 23. Total Orders by Month"
   ]
  },
  {
   "cell_type": "code",
   "execution_count": null,
   "id": "3e23db2a-2354-4861-a411-3346cfef2b7c",
   "metadata": {},
   "outputs": [],
   "source": [
    "orders[orders[\"Order Year\"] == 2017].groupby([\"Order Month\", \"Order Month Name\"])[\"Order Id\"].nunique()"
   ]
  },
  {
   "cell_type": "markdown",
   "id": "aa704873-554b-422c-9b41-836b9c4d26f9",
   "metadata": {},
   "source": [
    "#### 24. Total Orders by State"
   ]
  },
  {
   "cell_type": "code",
   "execution_count": null,
   "id": "81feeccc-8008-4164-8a0a-005852f8a60a",
   "metadata": {},
   "outputs": [],
   "source": [
    "orders[orders[\"Order Year\"] == 2017].groupby(\"State\")[\"Order Id\"].nunique()"
   ]
  },
  {
   "cell_type": "markdown",
   "id": "ad16944c-a32f-41f7-adeb-62d239bb74ef",
   "metadata": {},
   "source": [
    "#### 25. Total Orders by Category"
   ]
  },
  {
   "cell_type": "code",
   "execution_count": null,
   "id": "3d37def6-2540-4b1c-83b1-bae6db69e656",
   "metadata": {},
   "outputs": [],
   "source": [
    "orders[orders[\"Order Year\"] == 2017].groupby(\"Category\")[\"Order Id\"].nunique()"
   ]
  },
  {
   "cell_type": "markdown",
   "id": "79730205-5def-44d1-99e1-95728f4f5473",
   "metadata": {},
   "source": [
    "#### 26. Total Orders by Market"
   ]
  },
  {
   "cell_type": "code",
   "execution_count": null,
   "id": "08f1cf9d-525a-4b50-b8e6-69bec10f4f78",
   "metadata": {},
   "outputs": [],
   "source": [
    "orders[orders[\"Order Year\"] == 2017].groupby(\"Market\")[\"Order Id\"].nunique()"
   ]
  },
  {
   "cell_type": "markdown",
   "id": "af7a6fde-2b52-4054-acb4-e3f6d8a0b53c",
   "metadata": {},
   "source": [
    "#### 27. Total Orders by Region"
   ]
  },
  {
   "cell_type": "code",
   "execution_count": null,
   "id": "4b39f1a3-d878-4b04-8f5c-32bc868a903a",
   "metadata": {},
   "outputs": [],
   "source": [
    "orders[orders[\"Order Year\"] == 2017].groupby(\"Region\")[\"Order Id\"].nunique()"
   ]
  },
  {
   "cell_type": "markdown",
   "id": "14ac7159-e3ca-472c-8125-7934f3588b09",
   "metadata": {},
   "source": [
    "#### 28. Total Orders by Segment"
   ]
  },
  {
   "cell_type": "code",
   "execution_count": null,
   "id": "c67cc96c-8f1f-4354-8c22-80b868d88c8b",
   "metadata": {},
   "outputs": [],
   "source": [
    "orders[orders[\"Order Year\"] == 2017].groupby(\"Segment\")[\"Order Id\"].nunique()"
   ]
  },
  {
   "cell_type": "markdown",
   "id": "23381cfe-0d1b-4dca-9371-6a1bd0eb0685",
   "metadata": {},
   "source": [
    "#### 29. Total Customers"
   ]
  },
  {
   "cell_type": "code",
   "execution_count": null,
   "id": "4ed11bcb-5011-4bcc-a69e-f5a6f0ca2cf3",
   "metadata": {},
   "outputs": [],
   "source": [
    "orders[\"Customer Id\"].nunique()"
   ]
  },
  {
   "cell_type": "code",
   "execution_count": null,
   "id": "9817a072-22dc-401b-93ae-04401bf80bf4",
   "metadata": {},
   "outputs": [],
   "source": [
    "orders[orders[\"Order Year\"] == 2017][\"Customer Id\"].nunique()"
   ]
  },
  {
   "cell_type": "markdown",
   "id": "569ac404-475f-4841-a18b-0e8aee8c4bd1",
   "metadata": {},
   "source": [
    "##### YoY Customers (%)"
   ]
  },
  {
   "cell_type": "code",
   "execution_count": null,
   "id": "bb6850d6-7151-4e1b-a85f-67107b367340",
   "metadata": {},
   "outputs": [],
   "source": [
    "((orders[orders[\"Order Year\"] == 2017][\"Customer Id\"].nunique() - orders[orders[\"Order Year\"] == 2016][\"Customer Id\"].nunique())*100/orders[orders[\"Order Year\"] == 2016][\"Customer Id\"].nunique())"
   ]
  },
  {
   "cell_type": "markdown",
   "id": "e68ca054-7fa8-4767-9918-9fa53460219f",
   "metadata": {},
   "source": [
    "#### 30. Total Customers by Month"
   ]
  },
  {
   "cell_type": "code",
   "execution_count": null,
   "id": "ffa6aff1-981e-4462-b907-e8f97d9042b7",
   "metadata": {},
   "outputs": [],
   "source": [
    "orders[orders[\"Order Year\"] == 2017].groupby([\"Order Month\", \"Order Month Name\"])[\"Customer Id\"].nunique()"
   ]
  },
  {
   "cell_type": "markdown",
   "id": "426b95ef-1c45-4b76-ae0b-a5b5a5c6b2a6",
   "metadata": {},
   "source": [
    "#### 31. Total Customers by State"
   ]
  },
  {
   "cell_type": "code",
   "execution_count": null,
   "id": "41c905c7-1748-4f65-b720-0dc891481bd9",
   "metadata": {},
   "outputs": [],
   "source": [
    "orders[orders[\"Order Year\"] == 2017].groupby(\"State\")[\"Customer Id\"].nunique()"
   ]
  },
  {
   "cell_type": "markdown",
   "id": "3ad110e1-67f3-4b98-a715-ded522a6025c",
   "metadata": {},
   "source": [
    "#### 32. Total Customers by Category"
   ]
  },
  {
   "cell_type": "code",
   "execution_count": null,
   "id": "10ea0bf4-6a04-42a4-97d5-f89581f3d064",
   "metadata": {},
   "outputs": [],
   "source": [
    "orders[orders[\"Order Year\"] == 2017].groupby(\"Category\")[\"Customer Id\"].nunique()"
   ]
  },
  {
   "cell_type": "markdown",
   "id": "797b5f85-93d8-418f-92a1-38d4490a1181",
   "metadata": {},
   "source": [
    "#### 33. Total Customers by Market"
   ]
  },
  {
   "cell_type": "code",
   "execution_count": null,
   "id": "8a86b130-cb1a-4ce4-81b4-b220da86909b",
   "metadata": {},
   "outputs": [],
   "source": [
    "orders[orders[\"Order Year\"] == 2017].groupby(\"Market\")[\"Customer Id\"].nunique()"
   ]
  },
  {
   "cell_type": "markdown",
   "id": "ff38eb1b-33a6-481a-9cf4-cdaf41a14613",
   "metadata": {},
   "source": [
    "#### 34. Total Customers by Region"
   ]
  },
  {
   "cell_type": "code",
   "execution_count": null,
   "id": "560ff183-8e64-4d44-b805-f681f60759cf",
   "metadata": {},
   "outputs": [],
   "source": [
    "orders[orders[\"Order Year\"] == 2017].groupby(\"Region\")[\"Customer Id\"].nunique()"
   ]
  },
  {
   "cell_type": "markdown",
   "id": "bd1a716d-ab5c-46cf-9486-379d7673128a",
   "metadata": {},
   "source": [
    "#### 35. Total Customers by Segment"
   ]
  },
  {
   "cell_type": "code",
   "execution_count": null,
   "id": "dd2326e6-4ca4-4364-bbe2-892b1831605b",
   "metadata": {},
   "outputs": [],
   "source": [
    "orders[orders[\"Order Year\"] == 2017].groupby(\"Segment\")[\"Customer Id\"].nunique()"
   ]
  }
 ],
 "metadata": {
  "kernelspec": {
   "display_name": "Python 3 (ipykernel)",
   "language": "python",
   "name": "python3"
  },
  "language_info": {
   "codemirror_mode": {
    "name": "ipython",
    "version": 3
   },
   "file_extension": ".py",
   "mimetype": "text/x-python",
   "name": "python",
   "nbconvert_exporter": "python",
   "pygments_lexer": "ipython3",
   "version": "3.12.4"
  }
 },
 "nbformat": 4,
 "nbformat_minor": 5
}
